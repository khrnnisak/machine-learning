{
  "cells": [
    {
      "cell_type": "markdown",
      "metadata": {
        "id": "TLmaoL_Vsvxr"
      },
      "source": [
        "# Jobsheet 7 - Perceptron\n",
        "\n",
        "Identitas\n",
        "\n",
        "NIM     : \n",
        "\n",
        "Nama    : \n",
        "\n",
        "Kelas   :"
      ]
    },
    {
      "cell_type": "markdown",
      "metadata": {
        "id": "3HWbuqUtsvxv"
      },
      "source": [
        "## Tujuan\n",
        "\n",
        "1. Mahasiswa mampu menerapkan perceptron dalam sebuah kasus sederhana\n",
        "2. Mahasiswa mampu menerapkan perceptron di dalam metode berbasis neural network"
      ]
    },
    {
      "cell_type": "markdown",
      "metadata": {
        "id": "rGrZ9Ff_svxw"
      },
      "source": [
        "## Kegiatan Praktikum\n",
        "Kegiatan praktikum ini membutuhkan dataset untuk diolah datanya menjadi sebuah analisis dari luaran penerapan perceptron dan metode berbasis neural network yang dijalankan. Ikuti petunjuk dari dosen pengampu mengenai data apa saja yang boleh dipakai serta karakteristik yang sesuai untuk kegiatan praktikum kali ini. Data yang ditampilkan pada jobsheet hanya sebuah contoh, mahasiswa harus mencari data sendiri dan memastikan data yang diperoleh tersebut sesuai dengan kasus yang dapat diselesaikan dengan perceptron dan neural network."
      ]
    },
    {
      "cell_type": "markdown",
      "metadata": {
        "id": "Tdo9d0ausvxx"
      },
      "source": [
        "### Kegiatan 1 - Perceptron I"
      ]
    },
    {
      "cell_type": "code",
      "execution_count": 1,
      "metadata": {
        "id": "cgwRwxovsvxx"
      },
      "outputs": [],
      "source": [
        "# import library\n",
        "import numpy as np\n",
        "import matplotlib.pyplot as plt\n",
        "import pandas as pd\n",
        "import seaborn as sns"
      ]
    },
    {
      "cell_type": "code",
      "execution_count": 3,
      "metadata": {
        "colab": {
          "base_uri": "https://localhost:8080/",
          "height": 279
        },
        "id": "gX8ufsAgsvxy",
        "outputId": "ac8a1711-fd5a-44c4-e718-4e18abe7772e"
      },
      "outputs": [
        {
          "data": {
            "image/png": "[encoded data removed]",
            "text/plain": [
              "<Figure size 432x288 with 1 Axes>"
            ]
          },
          "metadata": {
            "needs_background": "light"
          },
          "output_type": "display_data"
        }
      ],
      "source": [
        "# pembacaan data dan visualisasi\n",
        "\n",
        "df = pd.read_csv('iris.csv', header=None)\n",
        "setosa = df[df[4] == 'Iris-setosa']\n",
        "versicolor = df[df[4] == 'Iris-versicolor']\n",
        "virginica = df[df[4] == 'Iris-virginica']\n",
        "\n",
        "a, b = 0, 3\n",
        "plt.scatter(setosa[a], setosa[b], color='red', marker='o', label='setosa')\n",
        "plt.scatter(versicolor[a], versicolor[b], color='blue', marker='x', label='versicolor')\n",
        "\n",
        "plt.xlabel('Petal Length')\n",
        "plt.ylabel('Sepal Length')\n",
        "plt.legend(loc='upper left')\n",
        "plt.grid()\n",
        "plt.show()"
      ]
    },
    {
      "cell_type": "code",
      "execution_count": 4,
      "metadata": {
        "id": "KEUuUJO2svxz"
      },
      "outputs": [],
      "source": [
        "# Pembuatan kelas Perceptron\n",
        "# pada jobsheet ini, penerapan perceptron dibuat dalam satu kelas khusus\n",
        "\n",
        "class Perceptron(object):\n",
        "    def __init__(self, eta=0.01, n_iter=10): #eta = alfa, n_iter= epoch\n",
        "        self.eta = eta          #constructor\n",
        "        self.n_iter = n_iter    #constructor\n",
        "    \n",
        "    def fit(self, X, y):\n",
        "        \n",
        "        self.w_ = np.zeros(1 + X.shape[1])\n",
        "        self.errors_ = []\n",
        "        \n",
        "        for _ in range(self.n_iter):\n",
        "            errors = 0\n",
        "            for xi, target in zip(X, y):    #zip membuat tuple dari 2 data, xi = fitur, target = label\n",
        "                update = self.eta * (target - self.predict(xi))\n",
        "                self.w_[0] += update\n",
        "                self.w_[1:] += update * xi\n",
        "                errors += int(update != 0.0)\n",
        "            self.errors_.append(errors)\n",
        "        return self\n",
        "    #activation functions\n",
        "    def net_input(self, X):\n",
        "        return np.dot(X, self.w_[1:]) + self.w_[0] #X = fitur\n",
        "    \n",
        "    def predict(self, X):\n",
        "        return np.where(self.net_input(X) >= 0.0, 1, -1)"
      ]
    },
    {
      "cell_type": "code",
      "execution_count": 5,
      "metadata": {
        "colab": {
          "base_uri": "https://localhost:8080/",
          "height": 279
        },
        "id": "JptwQTzxsvx0",
        "outputId": "188c100c-b271-42ec-a247-dfea4120a527"
      },
      "outputs": [
        {
          "data": {
            "image/png": "[encoded data removed]",
            "text/plain": [
              "<Figure size 432x288 with 1 Axes>"
            ]
          },
          "metadata": {
            "needs_background": "light"
          },
          "output_type": "display_data"
        }
      ],
      "source": [
        "# penerapan perceptron\n",
        "y = df.iloc[0:100, 4].values\n",
        "y = np.where(y == 'Iris-setosa', -1, 1)\n",
        "X = df.iloc[0:100, [0, 3]].values\n",
        "\n",
        "\n",
        "ppn = Perceptron(eta=0.1, n_iter=10)\n",
        "ppn.fit(X, y)\n",
        "\n",
        "# plot the error for each epoch to check for convergence\n",
        "plt.plot(range(1, len(ppn.errors_)+1), ppn.errors_)\n",
        "plt.xlabel('Epochs')\n",
        "plt.ylabel('Number of updates')\n",
        "plt.show()"
      ]
    },
    {
      "cell_type": "code",
      "execution_count": 6,
      "metadata": {
        "id": "BhzdhbDUsvx0"
      },
      "outputs": [],
      "source": [
        "# buat fungsi untuk plot decision region\n",
        "\n",
        "from matplotlib.colors import ListedColormap\n",
        "\n",
        "def plot_decision_regions(X, y, classifier, resolution=0.02):\n",
        "    # setup marker generator and color map\n",
        "    markers = ('s', 'x', 'o', '^', 'v')\n",
        "    colors = ('r', 'b', 'g', 'k', 'grey')\n",
        "    cmap = ListedColormap(colors[:len(np.unique(y))])\n",
        "    \n",
        "    # plot the decision regions by creating a pair of grid arrays xx1 and xx2 via meshgrid function in Numpy\n",
        "    x1_min, x1_max = X[:, 0].min() - 1, X[:, 0].max() + 1\n",
        "    x2_min, x2_max = X[:, 1].min() - 1, X[:, 1].max() + 1\n",
        "    xx1, xx2 = np.meshgrid(np.arange(x1_min, x1_max, resolution), np.arange(x2_min, x2_max, resolution))\n",
        "    \n",
        "    # use predict method to predict the class labels z of the grid points\n",
        "    Z = classifier.predict(np.array([xx1.ravel(),xx2.ravel()]).T)\n",
        "    Z = Z.reshape(xx1.shape)\n",
        "    \n",
        "    # draw the contour using matplotlib\n",
        "    plt.contourf(xx1, xx2, Z, alpha=0.4, cmap=cmap)\n",
        "    plt.xlim(xx1.min(), xx1.max())\n",
        "    plt.ylim(xx2.min(), xx2.max())\n",
        "    \n",
        "    # plot class samples\n",
        "    for i, cl in enumerate(np.unique(y)):\n",
        "        plt.scatter(x=X[y==cl, 0], y=X[y==cl, 1], alpha=0.8, c=cmap(i), marker=markers[i], label=cl)"
      ]
    },
    {
      "cell_type": "code",
      "execution_count": 7,
      "metadata": {
        "colab": {
          "base_uri": "https://localhost:8080/",
          "height": 334
        },
        "id": "cQ3GVvM8svx1",
        "outputId": "50874d44-138c-4420-c177-441d051dac21"
      },
      "outputs": [
        {
          "name": "stderr",
          "output_type": "stream",
          "text": [
            "*c* argument looks like a single numeric RGB or RGBA sequence, which should be avoided as value-mapping will have precedence in case its length matches with *x* & *y*.  Please use the *color* keyword-argument or provide a 2-D array with a single row if you intend to specify the same RGB or RGBA value for all points.\n",
            "*c* argument looks like a single numeric RGB or RGBA sequence, which should be avoided as value-mapping will have precedence in case its length matches with *x* & *y*.  Please use the *color* keyword-argument or provide a 2-D array with a single row if you intend to specify the same RGB or RGBA value for all points.\n"
          ]
        },
        {
          "data": {
            "image/png": "[encoded data removed]",
            "text/plain": [
              "<Figure size 432x288 with 1 Axes>"
            ]
          },
          "metadata": {
            "needs_background": "light"
          },
          "output_type": "display_data"
        }
      ],
      "source": [
        "# hasil plot \n",
        "\n",
        "plot_decision_regions(X, y, ppn)\n",
        "plt.xlabel('sepal length [cm]')\n",
        "plt.ylabel('petal length [cm]')\n",
        "plt.legend(loc='upper left')\n",
        "plt.show()"
      ]
    },
    {
      "cell_type": "markdown",
      "metadata": {
        "id": "V0HKcNkDsvx1"
      },
      "source": [
        "### Kegiatan 2 - Perceptron II\n",
        "\n",
        "Pada kegiatan ini, praktik yang dilakukan adalah untuk menyelesaikan kasus klasifikasi dokumen. Perceptron yang diimplementasikan berasal dari library Scikit-Learn."
      ]
    },
    {
      "cell_type": "code",
      "execution_count": 8,
      "metadata": {
        "id": "F5aumgJ0svx2"
      },
      "outputs": [],
      "source": [
        "from sklearn.datasets import fetch_20newsgroups\n",
        "from sklearn.feature_extraction.text import TfidfVectorizer\n",
        "from sklearn.linear_model import Perceptron\n",
        "from sklearn.metrics import f1_score, classification_report, confusion_matrix"
      ]
    },
    {
      "cell_type": "code",
      "execution_count": 9,
      "metadata": {
        "id": "6DE1Ixl8svx2"
      },
      "outputs": [],
      "source": [
        "# persiapan kategori data yang diklasifikasi\n",
        "\n",
        "categories = ['rec.sport.hockey','rec.sport.baseball', 'rec.autos']\n",
        "newsgroups_train = fetch_20newsgroups(subset='train',categories=categories,remove=('headers','footers','quotes'))\n",
        "newsgroups_test = fetch_20newsgroups(subset='test',categories=categories,remove=('headers','footers','quotes'))"
      ]
    },
    {
      "cell_type": "code",
      "execution_count": 10,
      "metadata": {
        "colab": {
          "base_uri": "https://localhost:8080/"
        },
        "id": "JMwf0UNfsvx2",
        "outputId": "7630118f-67e3-4c15-f4bc-bff7677b00f7"
      },
      "outputs": [
        {
          "name": "stdout",
          "output_type": "stream",
          "text": [
            "              precision    recall  f1-score   support\n",
            "\n",
            "           0       0.88      0.88      0.88       396\n",
            "           1       0.82      0.83      0.83       397\n",
            "           2       0.88      0.87      0.87       399\n",
            "\n",
            "    accuracy                           0.86      1192\n",
            "   macro avg       0.86      0.86      0.86      1192\n",
            "weighted avg       0.86      0.86      0.86      1192\n",
            "\n"
          ]
        }
      ],
      "source": [
        "# penerapan klasifikasi dokumen\n",
        "\n",
        "vectorizer = TfidfVectorizer()\n",
        "X_train = vectorizer.fit_transform(newsgroups_train.data)\n",
        "X_test = vectorizer.transform(newsgroups_test.data)\n",
        "clf = Perceptron(random_state=11)\n",
        "clf.fit(X_train,newsgroups_train.target)\n",
        "predictions = clf.predict(X_test)\n",
        "print(classification_report(newsgroups_test.target,predictions))"
      ]
    },
    {
      "cell_type": "markdown",
      "metadata": {
        "id": "2DcaBkZBsvx2"
      },
      "source": [
        "### Kegiatan 3 - Neural Network"
      ]
    },
    {
      "cell_type": "code",
      "execution_count": 11,
      "metadata": {
        "colab": {
          "base_uri": "https://localhost:8080/",
          "height": 270
        },
        "id": "3Sn0wV6Vsvx2",
        "outputId": "13f3c5c8-5414-4ffd-e563-e156fc7709f8"
      },
      "outputs": [
        {
          "data": {
            "text/html": [
              "<div>\n",
              "<style scoped>\n",
              "    .dataframe tbody tr th:only-of-type {\n",
              "        vertical-align: middle;\n",
              "    }\n",
              "\n",
              "    .dataframe tbody tr th {\n",
              "        vertical-align: top;\n",
              "    }\n",
              "\n",
              "    .dataframe thead th {\n",
              "        text-align: right;\n",
              "    }\n",
              "</style>\n",
              "<table border=\"1\" class=\"dataframe\">\n",
              "  <thead>\n",
              "    <tr style=\"text-align: right;\">\n",
              "      <th></th>\n",
              "      <th>Cultivator</th>\n",
              "      <th>Alchol</th>\n",
              "      <th>Malic_Acid</th>\n",
              "      <th>Ash</th>\n",
              "      <th>Alcalinity_of_Ash</th>\n",
              "      <th>Magnesium</th>\n",
              "      <th>Total_phenols</th>\n",
              "      <th>Falvanoids</th>\n",
              "      <th>Nonflavanoid_phenols</th>\n",
              "      <th>Proanthocyanins</th>\n",
              "      <th>Color_intensity</th>\n",
              "      <th>Hue</th>\n",
              "      <th>OD280</th>\n",
              "      <th>Proline</th>\n",
              "    </tr>\n",
              "  </thead>\n",
              "  <tbody>\n",
              "    <tr>\n",
              "      <th>0</th>\n",
              "      <td>1</td>\n",
              "      <td>14.23</td>\n",
              "      <td>1.71</td>\n",
              "      <td>2.43</td>\n",
              "      <td>15.6</td>\n",
              "      <td>127</td>\n",
              "      <td>2.80</td>\n",
              "      <td>3.06</td>\n",
              "      <td>0.28</td>\n",
              "      <td>2.29</td>\n",
              "      <td>5.64</td>\n",
              "      <td>1.04</td>\n",
              "      <td>3.92</td>\n",
              "      <td>1065</td>\n",
              "    </tr>\n",
              "    <tr>\n",
              "      <th>1</th>\n",
              "      <td>1</td>\n",
              "      <td>13.20</td>\n",
              "      <td>1.78</td>\n",
              "      <td>2.14</td>\n",
              "      <td>11.2</td>\n",
              "      <td>100</td>\n",
              "      <td>2.65</td>\n",
              "      <td>2.76</td>\n",
              "      <td>0.26</td>\n",
              "      <td>1.28</td>\n",
              "      <td>4.38</td>\n",
              "      <td>1.05</td>\n",
              "      <td>3.40</td>\n",
              "      <td>1050</td>\n",
              "    </tr>\n",
              "    <tr>\n",
              "      <th>2</th>\n",
              "      <td>1</td>\n",
              "      <td>13.16</td>\n",
              "      <td>2.36</td>\n",
              "      <td>2.67</td>\n",
              "      <td>18.6</td>\n",
              "      <td>101</td>\n",
              "      <td>2.80</td>\n",
              "      <td>3.24</td>\n",
              "      <td>0.30</td>\n",
              "      <td>2.81</td>\n",
              "      <td>5.68</td>\n",
              "      <td>1.03</td>\n",
              "      <td>3.17</td>\n",
              "      <td>1185</td>\n",
              "    </tr>\n",
              "    <tr>\n",
              "      <th>3</th>\n",
              "      <td>1</td>\n",
              "      <td>14.37</td>\n",
              "      <td>1.95</td>\n",
              "      <td>2.50</td>\n",
              "      <td>16.8</td>\n",
              "      <td>113</td>\n",
              "      <td>3.85</td>\n",
              "      <td>3.49</td>\n",
              "      <td>0.24</td>\n",
              "      <td>2.18</td>\n",
              "      <td>7.80</td>\n",
              "      <td>0.86</td>\n",
              "      <td>3.45</td>\n",
              "      <td>1480</td>\n",
              "    </tr>\n",
              "    <tr>\n",
              "      <th>4</th>\n",
              "      <td>1</td>\n",
              "      <td>13.24</td>\n",
              "      <td>2.59</td>\n",
              "      <td>2.87</td>\n",
              "      <td>21.0</td>\n",
              "      <td>118</td>\n",
              "      <td>2.80</td>\n",
              "      <td>2.69</td>\n",
              "      <td>0.39</td>\n",
              "      <td>1.82</td>\n",
              "      <td>4.32</td>\n",
              "      <td>1.04</td>\n",
              "      <td>2.93</td>\n",
              "      <td>735</td>\n",
              "    </tr>\n",
              "  </tbody>\n",
              "</table>\n",
              "</div>"
            ],
            "text/plain": [
              "   Cultivator  Alchol  Malic_Acid   Ash  Alcalinity_of_Ash  Magnesium  \\\n",
              "0           1   14.23        1.71  2.43               15.6        127   \n",
              "1           1   13.20        1.78  2.14               11.2        100   \n",
              "2           1   13.16        2.36  2.67               18.6        101   \n",
              "3           1   14.37        1.95  2.50               16.8        113   \n",
              "4           1   13.24        2.59  2.87               21.0        118   \n",
              "\n",
              "   Total_phenols  Falvanoids  Nonflavanoid_phenols  Proanthocyanins  \\\n",
              "0           2.80        3.06                  0.28             2.29   \n",
              "1           2.65        2.76                  0.26             1.28   \n",
              "2           2.80        3.24                  0.30             2.81   \n",
              "3           3.85        3.49                  0.24             2.18   \n",
              "4           2.80        2.69                  0.39             1.82   \n",
              "\n",
              "   Color_intensity   Hue  OD280  Proline  \n",
              "0             5.64  1.04   3.92     1065  \n",
              "1             4.38  1.05   3.40     1050  \n",
              "2             5.68  1.03   3.17     1185  \n",
              "3             7.80  0.86   3.45     1480  \n",
              "4             4.32  1.04   2.93      735  "
            ]
          },
          "execution_count": 11,
          "metadata": {},
          "output_type": "execute_result"
        }
      ],
      "source": [
        "# data yang dibaca adalah data wine,\n",
        "# data ini belum memiliki nama variabel setiap kolom sehingga nama variabel baru ini dibuat melalui names\n",
        "\n",
        "wine = pd.read_csv('wine.csv',names = [\"Cultivator\", \"Alchol\", \"Malic_Acid\", \"Ash\", \"Alcalinity_of_Ash\", \"Magnesium\", \"Total_phenols\", \"Falvanoids\", \"Nonflavanoid_phenols\", \"Proanthocyanins\", \"Color_intensity\", \"Hue\", \"OD280\", \"Proline\"])\n",
        "\n",
        "wine.head()"
      ]
    },
    {
      "cell_type": "code",
      "execution_count": 12,
      "metadata": {
        "colab": {
          "base_uri": "https://localhost:8080/",
          "height": 552
        },
        "id": "QOPt8hmCsvx3",
        "outputId": "aae5bb82-bde1-473a-edb5-21259f78a43e"
      },
      "outputs": [
        {
          "data": {
            "text/html": [
              "<div>\n",
              "<style scoped>\n",
              "    .dataframe tbody tr th:only-of-type {\n",
              "        vertical-align: middle;\n",
              "    }\n",
              "\n",
              "    .dataframe tbody tr th {\n",
              "        vertical-align: top;\n",
              "    }\n",
              "\n",
              "    .dataframe thead th {\n",
              "        text-align: right;\n",
              "    }\n",
              "</style>\n",
              "<table border=\"1\" class=\"dataframe\">\n",
              "  <thead>\n",
              "    <tr style=\"text-align: right;\">\n",
              "      <th></th>\n",
              "      <th>count</th>\n",
              "      <th>mean</th>\n",
              "      <th>std</th>\n",
              "      <th>min</th>\n",
              "      <th>25%</th>\n",
              "      <th>50%</th>\n",
              "      <th>75%</th>\n",
              "      <th>max</th>\n",
              "    </tr>\n",
              "  </thead>\n",
              "  <tbody>\n",
              "    <tr>\n",
              "      <th>Cultivator</th>\n",
              "      <td>178.0</td>\n",
              "      <td>1.938202</td>\n",
              "      <td>0.775035</td>\n",
              "      <td>1.00</td>\n",
              "      <td>1.0000</td>\n",
              "      <td>2.000</td>\n",
              "      <td>3.0000</td>\n",
              "      <td>3.00</td>\n",
              "    </tr>\n",
              "    <tr>\n",
              "      <th>Alchol</th>\n",
              "      <td>178.0</td>\n",
              "      <td>13.000618</td>\n",
              "      <td>0.811827</td>\n",
              "      <td>11.03</td>\n",
              "      <td>12.3625</td>\n",
              "      <td>13.050</td>\n",
              "      <td>13.6775</td>\n",
              "      <td>14.83</td>\n",
              "    </tr>\n",
              "    <tr>\n",
              "      <th>Malic_Acid</th>\n",
              "      <td>178.0</td>\n",
              "      <td>2.336348</td>\n",
              "      <td>1.117146</td>\n",
              "      <td>0.74</td>\n",
              "      <td>1.6025</td>\n",
              "      <td>1.865</td>\n",
              "      <td>3.0825</td>\n",
              "      <td>5.80</td>\n",
              "    </tr>\n",
              "    <tr>\n",
              "      <th>Ash</th>\n",
              "      <td>178.0</td>\n",
              "      <td>2.366517</td>\n",
              "      <td>0.274344</td>\n",
              "      <td>1.36</td>\n",
              "      <td>2.2100</td>\n",
              "      <td>2.360</td>\n",
              "      <td>2.5575</td>\n",
              "      <td>3.23</td>\n",
              "    </tr>\n",
              "    <tr>\n",
              "      <th>Alcalinity_of_Ash</th>\n",
              "      <td>178.0</td>\n",
              "      <td>19.494944</td>\n",
              "      <td>3.339564</td>\n",
              "      <td>10.60</td>\n",
              "      <td>17.2000</td>\n",
              "      <td>19.500</td>\n",
              "      <td>21.5000</td>\n",
              "      <td>30.00</td>\n",
              "    </tr>\n",
              "    <tr>\n",
              "      <th>Magnesium</th>\n",
              "      <td>178.0</td>\n",
              "      <td>99.741573</td>\n",
              "      <td>14.282484</td>\n",
              "      <td>70.00</td>\n",
              "      <td>88.0000</td>\n",
              "      <td>98.000</td>\n",
              "      <td>107.0000</td>\n",
              "      <td>162.00</td>\n",
              "    </tr>\n",
              "    <tr>\n",
              "      <th>Total_phenols</th>\n",
              "      <td>178.0</td>\n",
              "      <td>2.295112</td>\n",
              "      <td>0.625851</td>\n",
              "      <td>0.98</td>\n",
              "      <td>1.7425</td>\n",
              "      <td>2.355</td>\n",
              "      <td>2.8000</td>\n",
              "      <td>3.88</td>\n",
              "    </tr>\n",
              "    <tr>\n",
              "      <th>Falvanoids</th>\n",
              "      <td>178.0</td>\n",
              "      <td>2.029270</td>\n",
              "      <td>0.998859</td>\n",
              "      <td>0.34</td>\n",
              "      <td>1.2050</td>\n",
              "      <td>2.135</td>\n",
              "      <td>2.8750</td>\n",
              "      <td>5.08</td>\n",
              "    </tr>\n",
              "    <tr>\n",
              "      <th>Nonflavanoid_phenols</th>\n",
              "      <td>178.0</td>\n",
              "      <td>0.361854</td>\n",
              "      <td>0.124453</td>\n",
              "      <td>0.13</td>\n",
              "      <td>0.2700</td>\n",
              "      <td>0.340</td>\n",
              "      <td>0.4375</td>\n",
              "      <td>0.66</td>\n",
              "    </tr>\n",
              "    <tr>\n",
              "      <th>Proanthocyanins</th>\n",
              "      <td>178.0</td>\n",
              "      <td>1.590899</td>\n",
              "      <td>0.572359</td>\n",
              "      <td>0.41</td>\n",
              "      <td>1.2500</td>\n",
              "      <td>1.555</td>\n",
              "      <td>1.9500</td>\n",
              "      <td>3.58</td>\n",
              "    </tr>\n",
              "    <tr>\n",
              "      <th>Color_intensity</th>\n",
              "      <td>178.0</td>\n",
              "      <td>5.058090</td>\n",
              "      <td>2.318286</td>\n",
              "      <td>1.28</td>\n",
              "      <td>3.2200</td>\n",
              "      <td>4.690</td>\n",
              "      <td>6.2000</td>\n",
              "      <td>13.00</td>\n",
              "    </tr>\n",
              "    <tr>\n",
              "      <th>Hue</th>\n",
              "      <td>178.0</td>\n",
              "      <td>0.957449</td>\n",
              "      <td>0.228572</td>\n",
              "      <td>0.48</td>\n",
              "      <td>0.7825</td>\n",
              "      <td>0.965</td>\n",
              "      <td>1.1200</td>\n",
              "      <td>1.71</td>\n",
              "    </tr>\n",
              "    <tr>\n",
              "      <th>OD280</th>\n",
              "      <td>178.0</td>\n",
              "      <td>2.611685</td>\n",
              "      <td>0.709990</td>\n",
              "      <td>1.27</td>\n",
              "      <td>1.9375</td>\n",
              "      <td>2.780</td>\n",
              "      <td>3.1700</td>\n",
              "      <td>4.00</td>\n",
              "    </tr>\n",
              "    <tr>\n",
              "      <th>Proline</th>\n",
              "      <td>178.0</td>\n",
              "      <td>746.893258</td>\n",
              "      <td>314.907474</td>\n",
              "      <td>278.00</td>\n",
              "      <td>500.5000</td>\n",
              "      <td>673.500</td>\n",
              "      <td>985.0000</td>\n",
              "      <td>1680.00</td>\n",
              "    </tr>\n",
              "  </tbody>\n",
              "</table>\n",
              "</div>"
            ],
            "text/plain": [
              "                      count        mean         std     min       25%  \\\n",
              "Cultivator            178.0    1.938202    0.775035    1.00    1.0000   \n",
              "Alchol                178.0   13.000618    0.811827   11.03   12.3625   \n",
              "Malic_Acid            178.0    2.336348    1.117146    0.74    1.6025   \n",
              "Ash                   178.0    2.366517    0.274344    1.36    2.2100   \n",
              "Alcalinity_of_Ash     178.0   19.494944    3.339564   10.60   17.2000   \n",
              "Magnesium             178.0   99.741573   14.282484   70.00   88.0000   \n",
              "Total_phenols         178.0    2.295112    0.625851    0.98    1.7425   \n",
              "Falvanoids            178.0    2.029270    0.998859    0.34    1.2050   \n",
              "Nonflavanoid_phenols  178.0    0.361854    0.124453    0.13    0.2700   \n",
              "Proanthocyanins       178.0    1.590899    0.572359    0.41    1.2500   \n",
              "Color_intensity       178.0    5.058090    2.318286    1.28    3.2200   \n",
              "Hue                   178.0    0.957449    0.228572    0.48    0.7825   \n",
              "OD280                 178.0    2.611685    0.709990    1.27    1.9375   \n",
              "Proline               178.0  746.893258  314.907474  278.00  500.5000   \n",
              "\n",
              "                          50%       75%      max  \n",
              "Cultivator              2.000    3.0000     3.00  \n",
              "Alchol                 13.050   13.6775    14.83  \n",
              "Malic_Acid              1.865    3.0825     5.80  \n",
              "Ash                     2.360    2.5575     3.23  \n",
              "Alcalinity_of_Ash      19.500   21.5000    30.00  \n",
              "Magnesium              98.000  107.0000   162.00  \n",
              "Total_phenols           2.355    2.8000     3.88  \n",
              "Falvanoids              2.135    2.8750     5.08  \n",
              "Nonflavanoid_phenols    0.340    0.4375     0.66  \n",
              "Proanthocyanins         1.555    1.9500     3.58  \n",
              "Color_intensity         4.690    6.2000    13.00  \n",
              "Hue                     0.965    1.1200     1.71  \n",
              "OD280                   2.780    3.1700     4.00  \n",
              "Proline               673.500  985.0000  1680.00  "
            ]
          },
          "execution_count": 12,
          "metadata": {},
          "output_type": "execute_result"
        }
      ],
      "source": [
        "# deskripsi data dengan bentuk tampilan dibalik dari umumnya\n",
        "wine.describe().transpose()"
      ]
    },
    {
      "cell_type": "code",
      "execution_count": 13,
      "metadata": {
        "colab": {
          "base_uri": "https://localhost:8080/"
        },
        "id": "4s8w2NbFsvx3",
        "outputId": "a6c49a11-852f-41c2-aa2c-94b9304a86e0"
      },
      "outputs": [
        {
          "data": {
            "text/plain": [
              "(178, 14)"
            ]
          },
          "execution_count": 13,
          "metadata": {},
          "output_type": "execute_result"
        }
      ],
      "source": [
        "# output: ditemukan 178 data dengan 13 fitur dan 1 kolom label\n",
        "\n",
        "wine.shape"
      ]
    },
    {
      "cell_type": "code",
      "execution_count": 14,
      "metadata": {
        "id": "SVHdwZwNsvx3"
      },
      "outputs": [],
      "source": [
        "# penentuan variabel X dan y\n",
        "X = wine.drop('Cultivator',axis=1)\n",
        "y = wine['Cultivator']"
      ]
    },
    {
      "cell_type": "code",
      "execution_count": 15,
      "metadata": {
        "id": "Sxi2GWcLsvx3"
      },
      "outputs": [],
      "source": [
        "# pemisahan data training dan data testing\n",
        "\n",
        "from sklearn.model_selection import train_test_split\n",
        "\n",
        "X_train, X_test, y_train, y_test = train_test_split(X, y)"
      ]
    },
    {
      "cell_type": "markdown",
      "metadata": {
        "id": "7Yxx6JN6svx4"
      },
      "source": [
        "#### Data Preprocessing\n",
        "\n",
        "Penerapan neural network (terutama di Python) mengalami kesulitan dalam mengolah data ketika data tersebut belum dinormalisasi. Multilayer perceptron sensitif terhadap feature scaling sehingga perlu dilakukan penskalaan data terlebih dahulu. Contoh standarisasi ini dapat dilakukan menggunakan StandardScaler."
      ]
    },
    {
      "cell_type": "code",
      "execution_count": 16,
      "metadata": {
        "id": "YVBeI9ggsvx4"
      },
      "outputs": [],
      "source": [
        "from sklearn.preprocessing import StandardScaler\n",
        "\n",
        "scaler = StandardScaler()"
      ]
    },
    {
      "cell_type": "code",
      "execution_count": 17,
      "metadata": {
        "colab": {
          "base_uri": "https://localhost:8080/"
        },
        "id": "2XG__KDAsvx4",
        "outputId": "a89a37c7-f9b1-4a5b-ce18-d14d17ab931d"
      },
      "outputs": [
        {
          "data": {
            "text/plain": [
              "StandardScaler()"
            ]
          },
          "execution_count": 17,
          "metadata": {},
          "output_type": "execute_result"
        }
      ],
      "source": [
        "# fitting pada data training\n",
        "\n",
        "scaler.fit(X_train)"
      ]
    },
    {
      "cell_type": "code",
      "execution_count": 18,
      "metadata": {
        "id": "g6v98X7dsvx4"
      },
      "outputs": [],
      "source": [
        "# standarisasi\n",
        "StandardScaler(copy=True, with_mean=True, with_std=True)\n",
        "\n",
        "# transformasi data\n",
        "X_train = scaler.transform(X_train)\n",
        "X_test = scaler.transform(X_test)"
      ]
    },
    {
      "cell_type": "markdown",
      "metadata": {
        "id": "aHs4ffG-svx4"
      },
      "source": [
        "#### Training Model"
      ]
    },
    {
      "cell_type": "code",
      "execution_count": 19,
      "metadata": {
        "id": "RAuqifQ-svx5"
      },
      "outputs": [],
      "source": [
        "from sklearn.neural_network import MLPClassifier"
      ]
    },
    {
      "cell_type": "code",
      "execution_count": 20,
      "metadata": {
        "colab": {
          "base_uri": "https://localhost:8080/"
        },
        "id": "xvP6hbGKsvx5",
        "outputId": "e1a8cceb-4e26-47be-8824-56b401594d79"
      },
      "outputs": [
        {
          "data": {
            "text/plain": [
              "MLPClassifier(hidden_layer_sizes=(13, 13, 13), max_iter=500)"
            ]
          },
          "execution_count": 20,
          "metadata": {},
          "output_type": "execute_result"
        }
      ],
      "source": [
        "# pada parameter hidden_layer_sizes, tentukan jumlah neuron yang diperlukan pada setiap layer.\n",
        "# Pada contoh ini hanya digunakan 3 buah layer dengan jumlah iterasi maksimal sebanyak 500 kali\n",
        "\n",
        "mlp = MLPClassifier(hidden_layer_sizes=(13,13,13),max_iter=500)\n",
        "\n",
        "\n",
        "# fitting data tarining terhadap mlp\n",
        "mlp.fit(X_train,y_train)"
      ]
    },
    {
      "cell_type": "markdown",
      "metadata": {
        "id": "vR7PUkPOsvx5"
      },
      "source": [
        "#### Prediksi dan Evaluasi"
      ]
    },
    {
      "cell_type": "code",
      "execution_count": 21,
      "metadata": {
        "colab": {
          "base_uri": "https://localhost:8080/"
        },
        "id": "Y3EejPE4svx5",
        "outputId": "1bf6a21c-47d3-4553-8c70-c7ed788a73c5"
      },
      "outputs": [
        {
          "name": "stdout",
          "output_type": "stream",
          "text": [
            "[[17  0  0]\n",
            " [ 0 18  0]\n",
            " [ 0  0 10]]\n"
          ]
        }
      ],
      "source": [
        "predictions = mlp.predict(X_test)\n",
        "\n",
        "print(confusion_matrix(y_test,predictions))"
      ]
    },
    {
      "cell_type": "code",
      "execution_count": 22,
      "metadata": {
        "colab": {
          "base_uri": "https://localhost:8080/"
        },
        "id": "2lPX_LIwsvx5",
        "outputId": "75fe219a-7bd2-4313-9917-3bd9977a48df"
      },
      "outputs": [
        {
          "name": "stdout",
          "output_type": "stream",
          "text": [
            "              precision    recall  f1-score   support\n",
            "\n",
            "           1       1.00      1.00      1.00        17\n",
            "           2       1.00      1.00      1.00        18\n",
            "           3       1.00      1.00      1.00        10\n",
            "\n",
            "    accuracy                           1.00        45\n",
            "   macro avg       1.00      1.00      1.00        45\n",
            "weighted avg       1.00      1.00      1.00        45\n",
            "\n"
          ]
        }
      ],
      "source": [
        "print(classification_report(y_test,predictions))"
      ]
    },
    {
      "cell_type": "code",
      "execution_count": 23,
      "metadata": {
        "colab": {
          "base_uri": "https://localhost:8080/"
        },
        "id": "JVFfiR0Gsvx6",
        "outputId": "aaba8a43-60fc-46ec-d59d-dc6e5cf9ab0d"
      },
      "outputs": [
        {
          "data": {
            "text/plain": [
              "4"
            ]
          },
          "execution_count": 23,
          "metadata": {},
          "output_type": "execute_result"
        }
      ],
      "source": [
        "# ekstraksi bobot dan bias MLP setelah training model\n",
        "# coefs_ adalah matriks bobot, matriks bobot pada indeks i menandakan bobot di antara layer i dan layer i+1\n",
        "\n",
        "len(mlp.coefs_)"
      ]
    },
    {
      "cell_type": "code",
      "execution_count": 24,
      "metadata": {
        "colab": {
          "base_uri": "https://localhost:8080/"
        },
        "id": "5Y6H417qsvx6",
        "outputId": "737c21b6-f5a0-4e0d-8a74-1910b932108d"
      },
      "outputs": [
        {
          "data": {
            "text/plain": [
              "13"
            ]
          },
          "execution_count": 24,
          "metadata": {},
          "output_type": "execute_result"
        }
      ],
      "source": [
        "len(mlp.coefs_[0])"
      ]
    },
    {
      "cell_type": "code",
      "execution_count": 25,
      "metadata": {
        "colab": {
          "base_uri": "https://localhost:8080/"
        },
        "id": "_ldC7qC8svx6",
        "outputId": "54ad6f9e-ee89-4864-d465-490b084ffff1"
      },
      "outputs": [
        {
          "data": {
            "text/plain": [
              "13"
            ]
          },
          "execution_count": 25,
          "metadata": {},
          "output_type": "execute_result"
        }
      ],
      "source": [
        "\n",
        "# intercepts_ adalah vektor bias, vektor pada indeks i menandakan nilai bias yang ditambahkan pada layer i+1\n",
        "len(mlp.intercepts_[0])"
      ]
    },
    {
      "cell_type": "markdown",
      "metadata": {
        "id": "BvOSio6bsvx6"
      },
      "source": [
        "### Tugas"
      ]
    },
    {
      "cell_type": "code",
      "execution_count": 3,
      "metadata": {
        "colab": {
          "base_uri": "https://localhost:8080/",
          "height": 427
        },
        "id": "nku6hU02zTev",
        "outputId": "1616d8e4-7a3c-4b4f-fba6-054df37c41c9"
      },
      "outputs": [
        {
          "data": {
            "text/html": [
              "\n",
              "  <div id=\"df-d9059732-31c9-41bb-b87f-a2725962466a\">\n",
              "    <div class=\"colab-df-container\">\n",
              "      <div>\n",
              "<style scoped>\n",
              "    .dataframe tbody tr th:only-of-type {\n",
              "        vertical-align: middle;\n",
              "    }\n",
              "\n",
              "    .dataframe tbody tr th {\n",
              "        vertical-align: top;\n",
              "    }\n",
              "\n",
              "    .dataframe thead th {\n",
              "        text-align: right;\n",
              "    }\n",
              "</style>\n",
              "<table border=\"1\" class=\"dataframe\">\n",
              "  <thead>\n",
              "    <tr style=\"text-align: right;\">\n",
              "      <th></th>\n",
              "      <th>Cultivator</th>\n",
              "      <th>Alchol</th>\n",
              "      <th>Malic_Acid</th>\n",
              "      <th>Ash</th>\n",
              "      <th>Alcalinity_of_Ash</th>\n",
              "      <th>Magnesium</th>\n",
              "      <th>Total_phenols</th>\n",
              "      <th>Falvanoids</th>\n",
              "      <th>Nonflavanoid_phenols</th>\n",
              "      <th>Proanthocyanins</th>\n",
              "      <th>Color_intensity</th>\n",
              "      <th>Hue</th>\n",
              "      <th>OD280</th>\n",
              "      <th>Proline</th>\n",
              "    </tr>\n",
              "  </thead>\n",
              "  <tbody>\n",
              "    <tr>\n",
              "      <th>0</th>\n",
              "      <td>1</td>\n",
              "      <td>14.23</td>\n",
              "      <td>1.71</td>\n",
              "      <td>2.43</td>\n",
              "      <td>15.6</td>\n",
              "      <td>127</td>\n",
              "      <td>2.80</td>\n",
              "      <td>3.06</td>\n",
              "      <td>0.28</td>\n",
              "      <td>2.29</td>\n",
              "      <td>5.64</td>\n",
              "      <td>1.04</td>\n",
              "      <td>3.92</td>\n",
              "      <td>1065</td>\n",
              "    </tr>\n",
              "    <tr>\n",
              "      <th>1</th>\n",
              "      <td>1</td>\n",
              "      <td>13.20</td>\n",
              "      <td>1.78</td>\n",
              "      <td>2.14</td>\n",
              "      <td>11.2</td>\n",
              "      <td>100</td>\n",
              "      <td>2.65</td>\n",
              "      <td>2.76</td>\n",
              "      <td>0.26</td>\n",
              "      <td>1.28</td>\n",
              "      <td>4.38</td>\n",
              "      <td>1.05</td>\n",
              "      <td>3.40</td>\n",
              "      <td>1050</td>\n",
              "    </tr>\n",
              "    <tr>\n",
              "      <th>2</th>\n",
              "      <td>1</td>\n",
              "      <td>13.16</td>\n",
              "      <td>2.36</td>\n",
              "      <td>2.67</td>\n",
              "      <td>18.6</td>\n",
              "      <td>101</td>\n",
              "      <td>2.80</td>\n",
              "      <td>3.24</td>\n",
              "      <td>0.30</td>\n",
              "      <td>2.81</td>\n",
              "      <td>5.68</td>\n",
              "      <td>1.03</td>\n",
              "      <td>3.17</td>\n",
              "      <td>1185</td>\n",
              "    </tr>\n",
              "    <tr>\n",
              "      <th>3</th>\n",
              "      <td>1</td>\n",
              "      <td>14.37</td>\n",
              "      <td>1.95</td>\n",
              "      <td>2.50</td>\n",
              "      <td>16.8</td>\n",
              "      <td>113</td>\n",
              "      <td>3.85</td>\n",
              "      <td>3.49</td>\n",
              "      <td>0.24</td>\n",
              "      <td>2.18</td>\n",
              "      <td>7.80</td>\n",
              "      <td>0.86</td>\n",
              "      <td>3.45</td>\n",
              "      <td>1480</td>\n",
              "    </tr>\n",
              "    <tr>\n",
              "      <th>4</th>\n",
              "      <td>1</td>\n",
              "      <td>13.24</td>\n",
              "      <td>2.59</td>\n",
              "      <td>2.87</td>\n",
              "      <td>21.0</td>\n",
              "      <td>118</td>\n",
              "      <td>2.80</td>\n",
              "      <td>2.69</td>\n",
              "      <td>0.39</td>\n",
              "      <td>1.82</td>\n",
              "      <td>4.32</td>\n",
              "      <td>1.04</td>\n",
              "      <td>2.93</td>\n",
              "      <td>735</td>\n",
              "    </tr>\n",
              "    <tr>\n",
              "      <th>5</th>\n",
              "      <td>1</td>\n",
              "      <td>14.20</td>\n",
              "      <td>1.76</td>\n",
              "      <td>2.45</td>\n",
              "      <td>15.2</td>\n",
              "      <td>112</td>\n",
              "      <td>3.27</td>\n",
              "      <td>3.39</td>\n",
              "      <td>0.34</td>\n",
              "      <td>1.97</td>\n",
              "      <td>6.75</td>\n",
              "      <td>1.05</td>\n",
              "      <td>2.85</td>\n",
              "      <td>1450</td>\n",
              "    </tr>\n",
              "    <tr>\n",
              "      <th>6</th>\n",
              "      <td>1</td>\n",
              "      <td>14.39</td>\n",
              "      <td>1.87</td>\n",
              "      <td>2.45</td>\n",
              "      <td>14.6</td>\n",
              "      <td>96</td>\n",
              "      <td>2.50</td>\n",
              "      <td>2.52</td>\n",
              "      <td>0.30</td>\n",
              "      <td>1.98</td>\n",
              "      <td>5.25</td>\n",
              "      <td>1.02</td>\n",
              "      <td>3.58</td>\n",
              "      <td>1290</td>\n",
              "    </tr>\n",
              "    <tr>\n",
              "      <th>7</th>\n",
              "      <td>1</td>\n",
              "      <td>14.06</td>\n",
              "      <td>2.15</td>\n",
              "      <td>2.61</td>\n",
              "      <td>17.6</td>\n",
              "      <td>121</td>\n",
              "      <td>2.60</td>\n",
              "      <td>2.51</td>\n",
              "      <td>0.31</td>\n",
              "      <td>1.25</td>\n",
              "      <td>5.05</td>\n",
              "      <td>1.06</td>\n",
              "      <td>3.58</td>\n",
              "      <td>1295</td>\n",
              "    </tr>\n",
              "    <tr>\n",
              "      <th>8</th>\n",
              "      <td>1</td>\n",
              "      <td>14.83</td>\n",
              "      <td>1.64</td>\n",
              "      <td>2.17</td>\n",
              "      <td>14.0</td>\n",
              "      <td>97</td>\n",
              "      <td>2.80</td>\n",
              "      <td>2.98</td>\n",
              "      <td>0.29</td>\n",
              "      <td>1.98</td>\n",
              "      <td>5.20</td>\n",
              "      <td>1.08</td>\n",
              "      <td>2.85</td>\n",
              "      <td>1045</td>\n",
              "    </tr>\n",
              "    <tr>\n",
              "      <th>9</th>\n",
              "      <td>1</td>\n",
              "      <td>13.86</td>\n",
              "      <td>1.35</td>\n",
              "      <td>2.27</td>\n",
              "      <td>16.0</td>\n",
              "      <td>98</td>\n",
              "      <td>2.98</td>\n",
              "      <td>3.15</td>\n",
              "      <td>0.22</td>\n",
              "      <td>1.85</td>\n",
              "      <td>7.22</td>\n",
              "      <td>1.01</td>\n",
              "      <td>3.55</td>\n",
              "      <td>1045</td>\n",
              "    </tr>\n",
              "  </tbody>\n",
              "</table>\n",
              "</div>\n",
              "      <button class=\"colab-df-convert\" onclick=\"convertToInteractive('df-d9059732-31c9-41bb-b87f-a2725962466a')\"\n",
              "              title=\"Convert this dataframe to an interactive table.\"\n",
              "              style=\"display:none;\">\n",
              "        \n",
              "  <svg xmlns=\"http://www.w3.org/2000/svg\" height=\"24px\"viewBox=\"0 0 24 24\"\n",
              "       width=\"24px\">\n",
              "    <path d=\"M0 0h24v24H0V0z\" fill=\"none\"/>\n",
              "    <path d=\"M18.56 5.44l.94 2.06.94-2.06 2.06-.94-2.06-.94-.94-2.06-.94 2.06-2.06.94zm-11 1L8.5 8.5l.94-2.06 2.06-.94-2.06-.94L8.5 2.5l-.94 2.06-2.06.94zm10 10l.94 2.06.94-2.06 2.06-.94-2.06-.94-.94-2.06-.94 2.06-2.06.94z\"/><path d=\"M17.41 7.96l-1.37-1.37c-.4-.4-.92-.59-1.43-.59-.52 0-1.04.2-1.43.59L10.3 9.45l-7.72 7.72c-.78.78-.78 2.05 0 2.83L4 21.41c.39.39.9.59 1.41.59.51 0 1.02-.2 1.41-.59l7.78-7.78 2.81-2.81c.8-.78.8-2.07 0-2.86zM5.41 20L4 18.59l7.72-7.72 1.47 1.35L5.41 20z\"/>\n",
              "  </svg>\n",
              "      </button>\n",
              "      \n",
              "  <style>\n",
              "    .colab-df-container {\n",
              "      display:flex;\n",
              "      flex-wrap:wrap;\n",
              "      gap: 12px;\n",
              "    }\n",
              "\n",
              "    .colab-df-convert {\n",
              "      background-color: #E8F0FE;\n",
              "      border: none;\n",
              "      border-radius: 50%;\n",
              "      cursor: pointer;\n",
              "      display: none;\n",
              "      fill: #1967D2;\n",
              "      height: 32px;\n",
              "      padding: 0 0 0 0;\n",
              "      width: 32px;\n",
              "    }\n",
              "\n",
              "    .colab-df-convert:hover {\n",
              "      background-color: #E2EBFA;\n",
              "      box-shadow: 0px 1px 2px rgba(60, 64, 67, 0.3), 0px 1px 3px 1px rgba(60, 64, 67, 0.15);\n",
              "      fill: #174EA6;\n",
              "    }\n",
              "\n",
              "    [theme=dark] .colab-df-convert {\n",
              "      background-color: #3B4455;\n",
              "      fill: #D2E3FC;\n",
              "    }\n",
              "\n",
              "    [theme=dark] .colab-df-convert:hover {\n",
              "      background-color: #434B5C;\n",
              "      box-shadow: 0px 1px 3px 1px rgba(0, 0, 0, 0.15);\n",
              "      filter: drop-shadow(0px 1px 2px rgba(0, 0, 0, 0.3));\n",
              "      fill: #FFFFFF;\n",
              "    }\n",
              "  </style>\n",
              "\n",
              "      <script>\n",
              "        const buttonEl =\n",
              "          document.querySelector('#df-d9059732-31c9-41bb-b87f-a2725962466a button.colab-df-convert');\n",
              "        buttonEl.style.display =\n",
              "          google.colab.kernel.accessAllowed ? 'block' : 'none';\n",
              "\n",
              "        async function convertToInteractive(key) {\n",
              "          const element = document.querySelector('#df-d9059732-31c9-41bb-b87f-a2725962466a');\n",
              "          const dataTable =\n",
              "            await google.colab.kernel.invokeFunction('convertToInteractive',\n",
              "                                                     [key], {});\n",
              "          if (!dataTable) return;\n",
              "\n",
              "          const docLinkHtml = 'Like what you see? Visit the ' +\n",
              "            '<a target=\"_blank\" href=https://colab.research.google.com/notebooks/data_table.ipynb>data table notebook</a>'\n",
              "            + ' to learn more about interactive tables.';\n",
              "          element.innerHTML = '';\n",
              "          dataTable['output_type'] = 'display_data';\n",
              "          await google.colab.output.renderOutput(dataTable, element);\n",
              "          const docLink = document.createElement('div');\n",
              "          docLink.innerHTML = docLinkHtml;\n",
              "          element.appendChild(docLink);\n",
              "        }\n",
              "      </script>\n",
              "    </div>\n",
              "  </div>\n",
              "  "
            ],
            "text/plain": [
              "   Cultivator  Alchol  Malic_Acid   Ash  Alcalinity_of_Ash  Magnesium  \\\n",
              "0           1   14.23        1.71  2.43               15.6        127   \n",
              "1           1   13.20        1.78  2.14               11.2        100   \n",
              "2           1   13.16        2.36  2.67               18.6        101   \n",
              "3           1   14.37        1.95  2.50               16.8        113   \n",
              "4           1   13.24        2.59  2.87               21.0        118   \n",
              "5           1   14.20        1.76  2.45               15.2        112   \n",
              "6           1   14.39        1.87  2.45               14.6         96   \n",
              "7           1   14.06        2.15  2.61               17.6        121   \n",
              "8           1   14.83        1.64  2.17               14.0         97   \n",
              "9           1   13.86        1.35  2.27               16.0         98   \n",
              "\n",
              "   Total_phenols  Falvanoids  Nonflavanoid_phenols  Proanthocyanins  \\\n",
              "0           2.80        3.06                  0.28             2.29   \n",
              "1           2.65        2.76                  0.26             1.28   \n",
              "2           2.80        3.24                  0.30             2.81   \n",
              "3           3.85        3.49                  0.24             2.18   \n",
              "4           2.80        2.69                  0.39             1.82   \n",
              "5           3.27        3.39                  0.34             1.97   \n",
              "6           2.50        2.52                  0.30             1.98   \n",
              "7           2.60        2.51                  0.31             1.25   \n",
              "8           2.80        2.98                  0.29             1.98   \n",
              "9           2.98        3.15                  0.22             1.85   \n",
              "\n",
              "   Color_intensity   Hue  OD280  Proline  \n",
              "0             5.64  1.04   3.92     1065  \n",
              "1             4.38  1.05   3.40     1050  \n",
              "2             5.68  1.03   3.17     1185  \n",
              "3             7.80  0.86   3.45     1480  \n",
              "4             4.32  1.04   2.93      735  \n",
              "5             6.75  1.05   2.85     1450  \n",
              "6             5.25  1.02   3.58     1290  \n",
              "7             5.05  1.06   3.58     1295  \n",
              "8             5.20  1.08   2.85     1045  \n",
              "9             7.22  1.01   3.55     1045  "
            ]
          },
          "execution_count": 3,
          "metadata": {},
          "output_type": "execute_result"
        }
      ],
      "source": [
        "#dataset import\n",
        "dataset = pd.read_csv('./drive/MyDrive/Machine/wine.csv',names = [\"Cultivator\", \"Alchol\", \"Malic_Acid\", \"Ash\", \"Alcalinity_of_Ash\", \"Magnesium\", \"Total_phenols\", \"Falvanoids\", \"Nonflavanoid_phenols\", \"Proanthocyanins\", \"Color_intensity\", \"Hue\", \"OD280\", \"Proline\"])\n",
        "dataset.head(10) #Return 10 rows of data"
      ]
    },
    {
      "cell_type": "code",
      "execution_count": 4,
      "metadata": {
        "colab": {
          "base_uri": "https://localhost:8080/",
          "height": 488
        },
        "id": "CoBT_RlcILLP",
        "outputId": "0cae9a2e-71e2-4167-ce97-c0575738629e"
      },
      "outputs": [
        {
          "data": {
            "text/html": [
              "\n",
              "  <div id=\"df-f623666b-929e-42b0-b93c-062719d9ea87\">\n",
              "    <div class=\"colab-df-container\">\n",
              "      <div>\n",
              "<style scoped>\n",
              "    .dataframe tbody tr th:only-of-type {\n",
              "        vertical-align: middle;\n",
              "    }\n",
              "\n",
              "    .dataframe tbody tr th {\n",
              "        vertical-align: top;\n",
              "    }\n",
              "\n",
              "    .dataframe thead th {\n",
              "        text-align: right;\n",
              "    }\n",
              "</style>\n",
              "<table border=\"1\" class=\"dataframe\">\n",
              "  <thead>\n",
              "    <tr style=\"text-align: right;\">\n",
              "      <th></th>\n",
              "      <th>count</th>\n",
              "      <th>mean</th>\n",
              "      <th>std</th>\n",
              "      <th>min</th>\n",
              "      <th>25%</th>\n",
              "      <th>50%</th>\n",
              "      <th>75%</th>\n",
              "      <th>max</th>\n",
              "    </tr>\n",
              "  </thead>\n",
              "  <tbody>\n",
              "    <tr>\n",
              "      <th>Cultivator</th>\n",
              "      <td>178.0</td>\n",
              "      <td>1.938202</td>\n",
              "      <td>0.775035</td>\n",
              "      <td>1.00</td>\n",
              "      <td>1.0000</td>\n",
              "      <td>2.000</td>\n",
              "      <td>3.0000</td>\n",
              "      <td>3.00</td>\n",
              "    </tr>\n",
              "    <tr>\n",
              "      <th>Alchol</th>\n",
              "      <td>178.0</td>\n",
              "      <td>13.000618</td>\n",
              "      <td>0.811827</td>\n",
              "      <td>11.03</td>\n",
              "      <td>12.3625</td>\n",
              "      <td>13.050</td>\n",
              "      <td>13.6775</td>\n",
              "      <td>14.83</td>\n",
              "    </tr>\n",
              "    <tr>\n",
              "      <th>Malic_Acid</th>\n",
              "      <td>178.0</td>\n",
              "      <td>2.336348</td>\n",
              "      <td>1.117146</td>\n",
              "      <td>0.74</td>\n",
              "      <td>1.6025</td>\n",
              "      <td>1.865</td>\n",
              "      <td>3.0825</td>\n",
              "      <td>5.80</td>\n",
              "    </tr>\n",
              "    <tr>\n",
              "      <th>Ash</th>\n",
              "      <td>178.0</td>\n",
              "      <td>2.366517</td>\n",
              "      <td>0.274344</td>\n",
              "      <td>1.36</td>\n",
              "      <td>2.2100</td>\n",
              "      <td>2.360</td>\n",
              "      <td>2.5575</td>\n",
              "      <td>3.23</td>\n",
              "    </tr>\n",
              "    <tr>\n",
              "      <th>Alcalinity_of_Ash</th>\n",
              "      <td>178.0</td>\n",
              "      <td>19.494944</td>\n",
              "      <td>3.339564</td>\n",
              "      <td>10.60</td>\n",
              "      <td>17.2000</td>\n",
              "      <td>19.500</td>\n",
              "      <td>21.5000</td>\n",
              "      <td>30.00</td>\n",
              "    </tr>\n",
              "    <tr>\n",
              "      <th>Magnesium</th>\n",
              "      <td>178.0</td>\n",
              "      <td>99.741573</td>\n",
              "      <td>14.282484</td>\n",
              "      <td>70.00</td>\n",
              "      <td>88.0000</td>\n",
              "      <td>98.000</td>\n",
              "      <td>107.0000</td>\n",
              "      <td>162.00</td>\n",
              "    </tr>\n",
              "    <tr>\n",
              "      <th>Total_phenols</th>\n",
              "      <td>178.0</td>\n",
              "      <td>2.295112</td>\n",
              "      <td>0.625851</td>\n",
              "      <td>0.98</td>\n",
              "      <td>1.7425</td>\n",
              "      <td>2.355</td>\n",
              "      <td>2.8000</td>\n",
              "      <td>3.88</td>\n",
              "    </tr>\n",
              "    <tr>\n",
              "      <th>Falvanoids</th>\n",
              "      <td>178.0</td>\n",
              "      <td>2.029270</td>\n",
              "      <td>0.998859</td>\n",
              "      <td>0.34</td>\n",
              "      <td>1.2050</td>\n",
              "      <td>2.135</td>\n",
              "      <td>2.8750</td>\n",
              "      <td>5.08</td>\n",
              "    </tr>\n",
              "    <tr>\n",
              "      <th>Nonflavanoid_phenols</th>\n",
              "      <td>178.0</td>\n",
              "      <td>0.361854</td>\n",
              "      <td>0.124453</td>\n",
              "      <td>0.13</td>\n",
              "      <td>0.2700</td>\n",
              "      <td>0.340</td>\n",
              "      <td>0.4375</td>\n",
              "      <td>0.66</td>\n",
              "    </tr>\n",
              "    <tr>\n",
              "      <th>Proanthocyanins</th>\n",
              "      <td>178.0</td>\n",
              "      <td>1.590899</td>\n",
              "      <td>0.572359</td>\n",
              "      <td>0.41</td>\n",
              "      <td>1.2500</td>\n",
              "      <td>1.555</td>\n",
              "      <td>1.9500</td>\n",
              "      <td>3.58</td>\n",
              "    </tr>\n",
              "    <tr>\n",
              "      <th>Color_intensity</th>\n",
              "      <td>178.0</td>\n",
              "      <td>5.058090</td>\n",
              "      <td>2.318286</td>\n",
              "      <td>1.28</td>\n",
              "      <td>3.2200</td>\n",
              "      <td>4.690</td>\n",
              "      <td>6.2000</td>\n",
              "      <td>13.00</td>\n",
              "    </tr>\n",
              "    <tr>\n",
              "      <th>Hue</th>\n",
              "      <td>178.0</td>\n",
              "      <td>0.957449</td>\n",
              "      <td>0.228572</td>\n",
              "      <td>0.48</td>\n",
              "      <td>0.7825</td>\n",
              "      <td>0.965</td>\n",
              "      <td>1.1200</td>\n",
              "      <td>1.71</td>\n",
              "    </tr>\n",
              "    <tr>\n",
              "      <th>OD280</th>\n",
              "      <td>178.0</td>\n",
              "      <td>2.611685</td>\n",
              "      <td>0.709990</td>\n",
              "      <td>1.27</td>\n",
              "      <td>1.9375</td>\n",
              "      <td>2.780</td>\n",
              "      <td>3.1700</td>\n",
              "      <td>4.00</td>\n",
              "    </tr>\n",
              "    <tr>\n",
              "      <th>Proline</th>\n",
              "      <td>178.0</td>\n",
              "      <td>746.893258</td>\n",
              "      <td>314.907474</td>\n",
              "      <td>278.00</td>\n",
              "      <td>500.5000</td>\n",
              "      <td>673.500</td>\n",
              "      <td>985.0000</td>\n",
              "      <td>1680.00</td>\n",
              "    </tr>\n",
              "  </tbody>\n",
              "</table>\n",
              "</div>\n",
              "      <button class=\"colab-df-convert\" onclick=\"convertToInteractive('df-f623666b-929e-42b0-b93c-062719d9ea87')\"\n",
              "              title=\"Convert this dataframe to an interactive table.\"\n",
              "              style=\"display:none;\">\n",
              "        \n",
              "  <svg xmlns=\"http://www.w3.org/2000/svg\" height=\"24px\"viewBox=\"0 0 24 24\"\n",
              "       width=\"24px\">\n",
              "    <path d=\"M0 0h24v24H0V0z\" fill=\"none\"/>\n",
              "    <path d=\"M18.56 5.44l.94 2.06.94-2.06 2.06-.94-2.06-.94-.94-2.06-.94 2.06-2.06.94zm-11 1L8.5 8.5l.94-2.06 2.06-.94-2.06-.94L8.5 2.5l-.94 2.06-2.06.94zm10 10l.94 2.06.94-2.06 2.06-.94-2.06-.94-.94-2.06-.94 2.06-2.06.94z\"/><path d=\"M17.41 7.96l-1.37-1.37c-.4-.4-.92-.59-1.43-.59-.52 0-1.04.2-1.43.59L10.3 9.45l-7.72 7.72c-.78.78-.78 2.05 0 2.83L4 21.41c.39.39.9.59 1.41.59.51 0 1.02-.2 1.41-.59l7.78-7.78 2.81-2.81c.8-.78.8-2.07 0-2.86zM5.41 20L4 18.59l7.72-7.72 1.47 1.35L5.41 20z\"/>\n",
              "  </svg>\n",
              "      </button>\n",
              "      \n",
              "  <style>\n",
              "    .colab-df-container {\n",
              "      display:flex;\n",
              "      flex-wrap:wrap;\n",
              "      gap: 12px;\n",
              "    }\n",
              "\n",
              "    .colab-df-convert {\n",
              "      background-color: #E8F0FE;\n",
              "      border: none;\n",
              "      border-radius: 50%;\n",
              "      cursor: pointer;\n",
              "      display: none;\n",
              "      fill: #1967D2;\n",
              "      height: 32px;\n",
              "      padding: 0 0 0 0;\n",
              "      width: 32px;\n",
              "    }\n",
              "\n",
              "    .colab-df-convert:hover {\n",
              "      background-color: #E2EBFA;\n",
              "      box-shadow: 0px 1px 2px rgba(60, 64, 67, 0.3), 0px 1px 3px 1px rgba(60, 64, 67, 0.15);\n",
              "      fill: #174EA6;\n",
              "    }\n",
              "\n",
              "    [theme=dark] .colab-df-convert {\n",
              "      background-color: #3B4455;\n",
              "      fill: #D2E3FC;\n",
              "    }\n",
              "\n",
              "    [theme=dark] .colab-df-convert:hover {\n",
              "      background-color: #434B5C;\n",
              "      box-shadow: 0px 1px 3px 1px rgba(0, 0, 0, 0.15);\n",
              "      filter: drop-shadow(0px 1px 2px rgba(0, 0, 0, 0.3));\n",
              "      fill: #FFFFFF;\n",
              "    }\n",
              "  </style>\n",
              "\n",
              "      <script>\n",
              "        const buttonEl =\n",
              "          document.querySelector('#df-f623666b-929e-42b0-b93c-062719d9ea87 button.colab-df-convert');\n",
              "        buttonEl.style.display =\n",
              "          google.colab.kernel.accessAllowed ? 'block' : 'none';\n",
              "\n",
              "        async function convertToInteractive(key) {\n",
              "          const element = document.querySelector('#df-f623666b-929e-42b0-b93c-062719d9ea87');\n",
              "          const dataTable =\n",
              "            await google.colab.kernel.invokeFunction('convertToInteractive',\n",
              "                                                     [key], {});\n",
              "          if (!dataTable) return;\n",
              "\n",
              "          const docLinkHtml = 'Like what you see? Visit the ' +\n",
              "            '<a target=\"_blank\" href=https://colab.research.google.com/notebooks/data_table.ipynb>data table notebook</a>'\n",
              "            + ' to learn more about interactive tables.';\n",
              "          element.innerHTML = '';\n",
              "          dataTable['output_type'] = 'display_data';\n",
              "          await google.colab.output.renderOutput(dataTable, element);\n",
              "          const docLink = document.createElement('div');\n",
              "          docLink.innerHTML = docLinkHtml;\n",
              "          element.appendChild(docLink);\n",
              "        }\n",
              "      </script>\n",
              "    </div>\n",
              "  </div>\n",
              "  "
            ],
            "text/plain": [
              "                      count        mean         std     min       25%  \\\n",
              "Cultivator            178.0    1.938202    0.775035    1.00    1.0000   \n",
              "Alchol                178.0   13.000618    0.811827   11.03   12.3625   \n",
              "Malic_Acid            178.0    2.336348    1.117146    0.74    1.6025   \n",
              "Ash                   178.0    2.366517    0.274344    1.36    2.2100   \n",
              "Alcalinity_of_Ash     178.0   19.494944    3.339564   10.60   17.2000   \n",
              "Magnesium             178.0   99.741573   14.282484   70.00   88.0000   \n",
              "Total_phenols         178.0    2.295112    0.625851    0.98    1.7425   \n",
              "Falvanoids            178.0    2.029270    0.998859    0.34    1.2050   \n",
              "Nonflavanoid_phenols  178.0    0.361854    0.124453    0.13    0.2700   \n",
              "Proanthocyanins       178.0    1.590899    0.572359    0.41    1.2500   \n",
              "Color_intensity       178.0    5.058090    2.318286    1.28    3.2200   \n",
              "Hue                   178.0    0.957449    0.228572    0.48    0.7825   \n",
              "OD280                 178.0    2.611685    0.709990    1.27    1.9375   \n",
              "Proline               178.0  746.893258  314.907474  278.00  500.5000   \n",
              "\n",
              "                          50%       75%      max  \n",
              "Cultivator              2.000    3.0000     3.00  \n",
              "Alchol                 13.050   13.6775    14.83  \n",
              "Malic_Acid              1.865    3.0825     5.80  \n",
              "Ash                     2.360    2.5575     3.23  \n",
              "Alcalinity_of_Ash      19.500   21.5000    30.00  \n",
              "Magnesium              98.000  107.0000   162.00  \n",
              "Total_phenols           2.355    2.8000     3.88  \n",
              "Falvanoids              2.135    2.8750     5.08  \n",
              "Nonflavanoid_phenols    0.340    0.4375     0.66  \n",
              "Proanthocyanins         1.555    1.9500     3.58  \n",
              "Color_intensity         4.690    6.2000    13.00  \n",
              "Hue                     0.965    1.1200     1.71  \n",
              "OD280                   2.780    3.1700     4.00  \n",
              "Proline               673.500  985.0000  1680.00  "
            ]
          },
          "execution_count": 4,
          "metadata": {},
          "output_type": "execute_result"
        }
      ],
      "source": [
        "dataset.describe().transpose()"
      ]
    },
    {
      "cell_type": "code",
      "execution_count": 5,
      "metadata": {
        "colab": {
          "base_uri": "https://localhost:8080/"
        },
        "id": "ZLC_h4jAITvQ",
        "outputId": "2bda9504-4b7a-4dff-b3c6-4b408d199f84"
      },
      "outputs": [
        {
          "data": {
            "text/plain": [
              "(178, 14)"
            ]
          },
          "execution_count": 5,
          "metadata": {},
          "output_type": "execute_result"
        }
      ],
      "source": [
        "dataset.shape"
      ]
    },
    {
      "cell_type": "code",
      "execution_count": 6,
      "metadata": {
        "id": "rLaCNPxhCjso"
      },
      "outputs": [],
      "source": [
        "#Changing pandas dataframe to numpy array\n",
        "X = dataset.iloc[:,1:].values\n",
        "y = dataset.iloc[:,0].values"
      ]
    },
    {
      "cell_type": "code",
      "execution_count": 7,
      "metadata": {
        "id": "XjyIBHCeJDX3"
      },
      "outputs": [],
      "source": [
        "# pemisahan data training dan data testing\n",
        "\n",
        "from sklearn.model_selection import train_test_split\n",
        "\n",
        "X_train, X_test, y_train, y_test = train_test_split(X, y)"
      ]
    },
    {
      "cell_type": "code",
      "execution_count": 8,
      "metadata": {
        "id": "VanynZO8CpGv"
      },
      "outputs": [],
      "source": [
        "#Normalizing the data\n",
        "from sklearn.preprocessing import StandardScaler\n",
        "sc = StandardScaler()\n",
        "X = sc.fit(X_train)\n",
        "\n",
        "# standarisasi\n",
        "StandardScaler(copy=True, with_mean=True, with_std=True)\n",
        "\n",
        "# transformasi data\n",
        "X_train = sc.transform(X_train)\n",
        "X_test = sc.transform(X_test)"
      ]
    },
    {
      "cell_type": "code",
      "execution_count": 9,
      "metadata": {
        "colab": {
          "base_uri": "https://localhost:8080/"
        },
        "id": "7nZrKh8RRCgU",
        "outputId": "099c80c3-4a11-4581-9768-6f7c8ce87f61"
      },
      "outputs": [
        {
          "data": {
            "text/plain": [
              "array([1, 1, 2, 2, 3, 3, 3, 2, 1, 2, 2, 3, 2, 2, 2, 3, 2, 3, 1, 3, 3, 1,\n",
              "       2, 2, 1, 3, 1, 3, 1, 1, 3, 2, 1, 2, 2, 3, 1, 2, 2, 2, 2, 1, 2, 1,\n",
              "       1, 3, 3, 1, 2, 1, 2, 2, 2, 2, 2, 1, 2, 3, 2, 1, 2, 3, 1, 3, 1, 2,\n",
              "       2, 1, 1, 1, 2, 2, 1, 2, 2, 3, 3, 1, 2, 3, 1, 2, 1, 1, 3, 2, 1, 2,\n",
              "       3, 2, 2, 1, 1, 3, 2, 2, 2, 2, 1, 3, 3, 2, 3, 3, 1, 1, 3, 1, 1, 1,\n",
              "       1, 2, 2, 3, 2, 2, 3, 1, 2, 1, 1, 2, 3, 3, 1, 2, 1, 2, 1, 1, 2, 2,\n",
              "       2])"
            ]
          },
          "execution_count": 9,
          "metadata": {},
          "output_type": "execute_result"
        }
      ],
      "source": [
        "y_train"
      ]
    },
    {
      "cell_type": "code",
      "execution_count": 10,
      "metadata": {
        "colab": {
          "base_uri": "https://localhost:8080/"
        },
        "id": "GHtwCQVtMQjl",
        "outputId": "8937deb3-03f3-4ebb-dbaf-8a7d6404301f"
      },
      "outputs": [
        {
          "data": {
            "text/plain": [
              "(133, 13)"
            ]
          },
          "execution_count": 10,
          "metadata": {},
          "output_type": "execute_result"
        }
      ],
      "source": [
        "X_train.shape"
      ]
    },
    {
      "cell_type": "code",
      "execution_count": 11,
      "metadata": {
        "colab": {
          "base_uri": "https://localhost:8080/"
        },
        "id": "xXakTxRcMVhl",
        "outputId": "12d6ebe5-60d9-4fbd-aa72-9613b2b31f3c"
      },
      "outputs": [
        {
          "data": {
            "text/plain": [
              "(45, 13)"
            ]
          },
          "execution_count": 11,
          "metadata": {},
          "output_type": "execute_result"
        }
      ],
      "source": [
        "X_test.shape"
      ]
    },
    {
      "cell_type": "markdown",
      "metadata": {
        "id": "sjzSC6T9OpRo"
      },
      "source": [
        "**Nueral Network without hidden Layer**"
      ]
    },
    {
      "cell_type": "code",
      "execution_count": 20,
      "metadata": {
        "id": "uohwLRxhJhXZ"
      },
      "outputs": [],
      "source": [
        "#Dependencies\n",
        "import keras\n",
        "from keras.models import Sequential\n",
        "from keras.layers import Dense\n",
        "# Neural network\n",
        "model = keras.Sequential([\n",
        "    keras.layers.Dense(10, input_shape=(13,), activation='sigmoid')\n",
        "])\n",
        "\n",
        "model.compile(optimizer='adam',\n",
        "              loss='sparse_categorical_crossentropy',\n",
        "              metrics=['accuracy'])\n",
        "\n",
        "# fit model\n",
        "history = model.fit(X_train, y_train, validation_data=(X_test, y_test), epochs=100, verbose=0)"
      ]
    },
    {
      "cell_type": "code",
      "execution_count": 21,
      "metadata": {
        "colab": {
          "base_uri": "https://localhost:8080/"
        },
        "id": "Dxv9Wg6bdJcQ",
        "outputId": "44e6ae0a-60c0-426e-fb80-47476f961cef"
      },
      "outputs": [
        {
          "name": "stdout",
          "output_type": "stream",
          "text": [
            "Train: 0.857, Test: 0.867\n"
          ]
        }
      ],
      "source": [
        "# evaluate the model\n",
        "_, train_acc = model.evaluate(X_train, y_train, verbose=0)\n",
        "_, test_acc = model.evaluate(X_test, y_test, verbose=0)\n",
        "print('Train: %.3f, Test: %.3f' % (train_acc, test_acc))"
      ]
    },
    {
      "cell_type": "code",
      "execution_count": 22,
      "metadata": {
        "colab": {
          "base_uri": "https://localhost:8080/",
          "height": 180
        },
        "id": "l40AQuZgdhIU",
        "outputId": "a8c791e6-829f-4b29-b6d3-13bba28301f1"
      },
      "outputs": [
        {
          "data": {
            "text/plain": [
              "<matplotlib.legend.Legend at 0x7f96d4ff8c10>"
            ]
          },
          "execution_count": 22,
          "metadata": {},
          "output_type": "execute_result"
        },
        {
          "data": {
            "image/png": "[encoded data removed]",
            "text/plain": [
              "<Figure size 432x288 with 1 Axes>"
            ]
          },
          "metadata": {
            "needs_background": "light"
          },
          "output_type": "display_data"
        }
      ],
      "source": [
        "# plot loss during training\n",
        "plt.subplot(211)\n",
        "plt.title('Loss')\n",
        "plt.plot(history.history['loss'], label='train')\n",
        "plt.plot(history.history['val_loss'], label='test')\n",
        "plt.legend()"
      ]
    },
    {
      "cell_type": "code",
      "execution_count": 23,
      "metadata": {
        "colab": {
          "base_uri": "https://localhost:8080/",
          "height": 295
        },
        "id": "0qytDZ_-NT_M",
        "outputId": "61573a29-f390-43a8-afe3-199a0134cbce"
      },
      "outputs": [
        {
          "data": {
            "image/png": "[encoded data removed]",
            "text/plain": [
              "<Figure size 432x288 with 1 Axes>"
            ]
          },
          "metadata": {
            "needs_background": "light"
          },
          "output_type": "display_data"
        }
      ],
      "source": [
        "plt.plot(history.history['accuracy'])\n",
        "plt.plot(history.history['val_accuracy'])\n",
        "plt.title('Model accuracy')\n",
        "plt.ylabel('Accuracy')\n",
        "plt.xlabel('Epoch')\n",
        "plt.legend(['Train', 'Test'], loc='upper left')\n",
        "plt.show()"
      ]
    },
    {
      "cell_type": "markdown",
      "metadata": {
        "id": "lnrvHUgQPeDV"
      },
      "source": [
        "**Neural Network with hidden layer**"
      ]
    },
    {
      "cell_type": "code",
      "execution_count": 24,
      "metadata": {
        "id": "FePqtmwzN2iu"
      },
      "outputs": [],
      "source": [
        "model = keras.Sequential([\n",
        "    keras.layers.Dense(100, input_shape=(13,), activation='relu'),\n",
        "    keras.layers.Dense(10,  activation='sigmoid')\n",
        "])\n",
        "\n",
        "model.compile(optimizer='adam',\n",
        "              loss='sparse_categorical_crossentropy',\n",
        "              metrics=['accuracy'])\n",
        "\n",
        "history = model.fit(X_train, y_train, validation_data=(X_test, y_test), epochs=100, verbose=0)"
      ]
    },
    {
      "cell_type": "code",
      "execution_count": 25,
      "metadata": {
        "colab": {
          "base_uri": "https://localhost:8080/"
        },
        "id": "Gq0i_2YzcwUX",
        "outputId": "f55c4144-e4f6-4e8a-e35d-3dbdde2826f9"
      },
      "outputs": [
        {
          "name": "stdout",
          "output_type": "stream",
          "text": [
            "Train: 1.000, Test: 1.000\n"
          ]
        }
      ],
      "source": [
        "# evaluate the model\n",
        "_, train_acc = model.evaluate(X_train, y_train, verbose=0)\n",
        "_, test_acc = model.evaluate(X_test, y_test, verbose=0)\n",
        "print('Train: %.3f, Test: %.3f' % (train_acc, test_acc))"
      ]
    },
    {
      "cell_type": "code",
      "execution_count": 26,
      "metadata": {
        "colab": {
          "base_uri": "https://localhost:8080/",
          "height": 180
        },
        "id": "UCJtM-O8elDK",
        "outputId": "b87b610a-a751-4657-af0f-2413fb26a963"
      },
      "outputs": [
        {
          "data": {
            "text/plain": [
              "<matplotlib.legend.Legend at 0x7f96d2b5f350>"
            ]
          },
          "execution_count": 26,
          "metadata": {},
          "output_type": "execute_result"
        },
        {
          "data": {
            "image/png": "[encoded data removed]",
            "text/plain": [
              "<Figure size 432x288 with 1 Axes>"
            ]
          },
          "metadata": {
            "needs_background": "light"
          },
          "output_type": "display_data"
        }
      ],
      "source": [
        "# plot loss during training\n",
        "plt.subplot(211)\n",
        "plt.title('Loss')\n",
        "plt.plot(history.history['loss'], label='train')\n",
        "plt.plot(history.history['val_loss'], label='test')\n",
        "plt.legend()"
      ]
    },
    {
      "cell_type": "code",
      "execution_count": 27,
      "metadata": {
        "colab": {
          "base_uri": "https://localhost:8080/",
          "height": 295
        },
        "id": "ueiv0MSIQFzW",
        "outputId": "0523b5f5-cd3c-4c21-a44e-8920a977fecf"
      },
      "outputs": [
        {
          "data": {
            "image/png": "[encoded data removed]",
            "text/plain": [
              "<Figure size 432x288 with 1 Axes>"
            ]
          },
          "metadata": {
            "needs_background": "light"
          },
          "output_type": "display_data"
        }
      ],
      "source": [
        "import matplotlib.pyplot as plt\n",
        "plt.plot(history.history['accuracy'])\n",
        "plt.plot(history.history['val_accuracy'])\n",
        "plt.title('Model accuracy')\n",
        "plt.ylabel('Accuracy')\n",
        "plt.xlabel('Epoch')\n",
        "plt.legend(['Train', 'Test'], loc='upper left')\n",
        "plt.show()"
      ]
    },
    {
      "cell_type": "code",
      "execution_count": 27,
      "metadata": {
        "id": "EB1FuqOmZDa7"
      },
      "outputs": [],
      "source": []
    }
  ],
  "metadata": {
    "colab": {
      "provenance": []
    },
    "kernelspec": {
      "display_name": "Python 3.8.8 ('base')",
      "language": "python",
      "name": "python3"
    },
    "language_info": {
      "codemirror_mode": {
        "name": "ipython",
        "version": 3
      },
      "file_extension": ".py",
      "mimetype": "text/x-python",
      "name": "python",
      "nbconvert_exporter": "python",
      "pygments_lexer": "ipython3",
      "version": "3.8.8"
    },
    "orig_nbformat": 4,
    "vscode": {
      "interpreter": {
        "hash": "263930470851f494f0ed2879c35b57985588df20f9e529b86e97dd5eb9ddc466"
      }
    }
  },
  "nbformat": 4,
  "nbformat_minor": 0
}
